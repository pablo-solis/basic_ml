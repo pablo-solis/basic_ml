{
 "cells": [
  {
   "cell_type": "code",
   "execution_count": 5,
   "metadata": {
    "collapsed": true
   },
   "outputs": [],
   "source": [
    "#Problem 1 e\n",
    "import numpy as np\n",
    "import util\n",
    "import pandas as pd\n",
    "\n",
    "from linear_model import LinearModel"
   ]
  },
  {
   "cell_type": "code",
   "execution_count": 6,
   "metadata": {
    "collapsed": false
   },
   "outputs": [
    {
     "data": {
      "text/plain": [
       "array([[ 1.63746338,  4.1525454 ],\n",
       "       [ 1.726565  ,  3.43759254],\n",
       "       [ 1.35868642,  0.75783418],\n",
       "       [ 1.62074686,  4.86274475],\n",
       "       [ 0.9632797 ,  0.56877592]])"
      ]
     },
     "execution_count": 6,
     "metadata": {},
     "output_type": "execute_result"
    }
   ],
   "source": []
  },
  {
   "cell_type": "code",
   "execution_count": 28,
   "metadata": {
    "collapsed": true
   },
   "outputs": [],
   "source": [
    "def main(train_path, valid_path, save_path):\n",
    "    \"\"\"Problem 1(e): Gaussian discriminant analysis (GDA)\n",
    "\n",
    "    Args:\n",
    "        train_path: Path to CSV file containing dataset for training.\n",
    "        valid_path: Path to CSV file containing dataset for validation.\n",
    "        save_path: Path to save predictions using np.savetxt().\n",
    "    \"\"\"\n",
    "    # Load dataset\n",
    "    x_train, y_train = util.load_dataset(train_path, add_intercept=False)\n",
    "    clf = GDA()\n",
    "    clf.fit(x_train,y_train)\n",
    "    #Load validationset \n",
    "\n",
    "    # *** START CODE HERE ***\n",
    "    # Train a GDA classifier\n",
    "    # Plot decision boundary on validation set\n",
    "    # Use np.savetxt to save outputs from validation set to save_path\n",
    "    # *** END CODE HERE ***\n",
    "\n",
    "\n",
    "class GDA(LinearModel):\n",
    "    \"\"\"Gaussian Discriminant Analysis.\n",
    "\n",
    "    Example usage:\n",
    "        > clf = GDA()\n",
    "        > clf.fit(x_train, y_train)\n",
    "        > clf.predict(x_eval)\n",
    "    \"\"\"\n",
    "\n",
    "    def fit(self, x, y):\n",
    "        \"\"\"Fit a GDA model to training set given by x and y by updating\n",
    "        self.theta.\n",
    "\n",
    "        Args:\n",
    "            x: Training example inputs. Shape (n, d).\n",
    "            y: Training example labels. Shape (n,).\n",
    "        \"\"\"\n",
    "        # *** START CODE HERE ***\n",
    "        # Find phi, mu_0, mu_1, and sigma\n",
    "        n = len(y)\n",
    "        d = x.shape[1]\n",
    "        one = np.ones([n,])\n",
    "        \n",
    "        \n",
    "        phi = (1/n)*sum(y) #note yi is indicator yi ==1\n",
    "        #mu_0 should have shape (1,d) = (1,n)*(n,d)\n",
    "        mu_0 = (y - one).reshape([1,n])@X/n*(1-phi)\n",
    "        mu_1 = (y).reshape([1,n])@X/n*(1-phi)/n*phi\n",
    "        \n",
    "        #sigma is d x d of the form X_block^T@X_block = (d x n)(nx d)\n",
    "        #X_block = X - Mu\n",
    "        #Mu is n x d for this reshape y and mu_i\n",
    "        rsy = y.reshape([n,1])\n",
    "        rsone_m_y = (one - y).reshape([n,1])\n",
    "        rsmu_1 = mu_1.reshape([1,d])\n",
    "        rsmu_0 = mu_0.reshape([1,d])\n",
    "        Mu = rsy@rsmu_1 + rsone_m_y@rsmu_0\n",
    "        X_block = X - Mu\n",
    "        sigma = X_block.T@X_block\n",
    "       \n",
    "        #Mu = y.reshape([n,1])@mu_1.reshape([1,d]) + (y - one).reshape([1,n])@mu_0.reshape([1,d])\n",
    "        #X_block = X - Mu\n",
    "        #sigma = X_block.T@X_block\n",
    "        #...\n",
    "        #mu_0 = mu_0.reshape(d,1)\n",
    "        #y = y.reshape(n,1)\n",
    "        #X_block = (x - (np.dot(y,mu_1.T))+np.dot((np.ones([n,1]) - y),mu_0)).T\n",
    "        #check matrix compatibility\n",
    "        #sigma = (1/n)*X_block@X_block.T\n",
    "        return (phi,mu_0,mu_1,sigma)\n",
    "        #phi = 1/n\n",
    "        # Write theta in terms of the parameters\n",
    "        # *** END CODE HERE ***\n",
    "\n",
    "    def predict(self, x):\n",
    "        \"\"\"Make a prediction given new inputs x.\n",
    "\n",
    "        Args:\n",
    "            x: Inputs of shape (n, d).\n",
    "\n",
    "        Returns:\n",
    "            Outputs of shape (n,).\n",
    "        \"\"\"\n",
    "        # *** START CODE HERE ***\n",
    "        #express theta as a function of the parameters\n",
    "        #theta = ...\n",
    "        #return 1/(1+exp(-theta.T@x)) \n",
    "        # *** END CODE HERE"
   ]
  },
  {
   "cell_type": "code",
   "execution_count": 29,
   "metadata": {
    "collapsed": false
   },
   "outputs": [
    {
     "data": {
      "text/plain": [
       "(0.5,\n",
       " array([[-0.14331444, -0.83314693]]),\n",
       " array([[ 0.002834  ,  0.01661302]]),\n",
       " array([[   380.26358964,   2230.80800776],\n",
       "        [  2230.80800776,  19452.27336573]]))"
      ]
     },
     "execution_count": 29,
     "metadata": {},
     "output_type": "execute_result"
    }
   ],
   "source": [
    "dt=pd.read_csv('data/ds1_test.csv')\n",
    "dv = pd.read_csv('data/ds1_valid.csv')\n",
    "X = np.array(dt[['x_1','x_2']])\n",
    "Y = np.array(dt[['y']])\n",
    "Y = Y.reshape([len(Y),])\n",
    "#no intrcept is added to X so far\n",
    "clf = GDA()\n",
    "clf.fit(X,Y)"
   ]
  },
  {
   "cell_type": "code",
   "execution_count": 3,
   "metadata": {
    "collapsed": false
   },
   "outputs": [
    {
     "ename": "ValueError",
     "evalue": "shapes (100,1) and (2,) not aligned: 1 (dim 1) != 2 (dim 0)",
     "output_type": "error",
     "traceback": [
      "\u001b[0;31m---------------------------------------------------------------------------\u001b[0m",
      "\u001b[0;31mValueError\u001b[0m                                Traceback (most recent call last)",
      "\u001b[0;32m<ipython-input-3-af4005e9b665>\u001b[0m in \u001b[0;36m<module>\u001b[0;34m()\u001b[0m\n\u001b[0;32m----> 1\u001b[0;31m \u001b[0mmain\u001b[0m\u001b[0;34m(\u001b[0m\u001b[0;34m'data/ds1_test.csv'\u001b[0m\u001b[0;34m,\u001b[0m\u001b[0;34m'data/ds1_valid.csv'\u001b[0m\u001b[0;34m,\u001b[0m\u001b[0;34m'data/ds1_predict.csv'\u001b[0m\u001b[0;34m)\u001b[0m\u001b[0;34m\u001b[0m\u001b[0m\n\u001b[0m",
      "\u001b[0;32m<ipython-input-2-82879655acb7>\u001b[0m in \u001b[0;36mmain\u001b[0;34m(train_path, valid_path, save_path)\u001b[0m\n\u001b[1;32m     10\u001b[0m     \u001b[0mx_train\u001b[0m\u001b[0;34m,\u001b[0m \u001b[0my_train\u001b[0m \u001b[0;34m=\u001b[0m \u001b[0mutil\u001b[0m\u001b[0;34m.\u001b[0m\u001b[0mload_dataset\u001b[0m\u001b[0;34m(\u001b[0m\u001b[0mtrain_path\u001b[0m\u001b[0;34m,\u001b[0m \u001b[0madd_intercept\u001b[0m\u001b[0;34m=\u001b[0m\u001b[0;32mFalse\u001b[0m\u001b[0;34m)\u001b[0m\u001b[0;34m\u001b[0m\u001b[0m\n\u001b[1;32m     11\u001b[0m     \u001b[0mclf\u001b[0m \u001b[0;34m=\u001b[0m \u001b[0mGDA\u001b[0m\u001b[0;34m(\u001b[0m\u001b[0;34m)\u001b[0m\u001b[0;34m\u001b[0m\u001b[0m\n\u001b[0;32m---> 12\u001b[0;31m     \u001b[0mclf\u001b[0m\u001b[0;34m.\u001b[0m\u001b[0mfit\u001b[0m\u001b[0;34m(\u001b[0m\u001b[0mx_train\u001b[0m\u001b[0;34m,\u001b[0m\u001b[0my_train\u001b[0m\u001b[0;34m)\u001b[0m\u001b[0;34m\u001b[0m\u001b[0m\n\u001b[0m\u001b[1;32m     13\u001b[0m     \u001b[0;31m#Load validationset\u001b[0m\u001b[0;34m\u001b[0m\u001b[0;34m\u001b[0m\u001b[0m\n\u001b[1;32m     14\u001b[0m \u001b[0;34m\u001b[0m\u001b[0m\n",
      "\u001b[0;32m<ipython-input-2-82879655acb7>\u001b[0m in \u001b[0;36mfit\u001b[0;34m(self, x, y)\u001b[0m\n\u001b[1;32m     48\u001b[0m         \u001b[0mmu_0\u001b[0m \u001b[0;34m=\u001b[0m \u001b[0mmu_0\u001b[0m\u001b[0;34m.\u001b[0m\u001b[0mreshape\u001b[0m\u001b[0;34m(\u001b[0m\u001b[0md\u001b[0m\u001b[0;34m,\u001b[0m\u001b[0;36m1\u001b[0m\u001b[0;34m)\u001b[0m\u001b[0;34m\u001b[0m\u001b[0m\n\u001b[1;32m     49\u001b[0m         \u001b[0my\u001b[0m \u001b[0;34m=\u001b[0m \u001b[0my\u001b[0m\u001b[0;34m.\u001b[0m\u001b[0mreshape\u001b[0m\u001b[0;34m(\u001b[0m\u001b[0mn\u001b[0m\u001b[0;34m,\u001b[0m\u001b[0;36m1\u001b[0m\u001b[0;34m)\u001b[0m\u001b[0;34m\u001b[0m\u001b[0m\n\u001b[0;32m---> 50\u001b[0;31m         \u001b[0mX_block\u001b[0m \u001b[0;34m=\u001b[0m \u001b[0;34m(\u001b[0m\u001b[0mx\u001b[0m \u001b[0;34m-\u001b[0m \u001b[0;34m(\u001b[0m\u001b[0mnp\u001b[0m\u001b[0;34m.\u001b[0m\u001b[0mdot\u001b[0m\u001b[0;34m(\u001b[0m\u001b[0my\u001b[0m\u001b[0;34m,\u001b[0m\u001b[0mmu_1\u001b[0m\u001b[0;34m.\u001b[0m\u001b[0mT\u001b[0m\u001b[0;34m)\u001b[0m\u001b[0;34m)\u001b[0m\u001b[0;34m+\u001b[0m\u001b[0mnp\u001b[0m\u001b[0;34m.\u001b[0m\u001b[0mdot\u001b[0m\u001b[0;34m(\u001b[0m\u001b[0;34m(\u001b[0m\u001b[0mnp\u001b[0m\u001b[0;34m.\u001b[0m\u001b[0mones\u001b[0m\u001b[0;34m(\u001b[0m\u001b[0;34m[\u001b[0m\u001b[0mn\u001b[0m\u001b[0;34m,\u001b[0m\u001b[0;36m1\u001b[0m\u001b[0;34m]\u001b[0m\u001b[0;34m)\u001b[0m \u001b[0;34m-\u001b[0m \u001b[0my\u001b[0m\u001b[0;34m)\u001b[0m\u001b[0;34m,\u001b[0m\u001b[0mmu_0\u001b[0m\u001b[0;34m)\u001b[0m\u001b[0;34m)\u001b[0m\u001b[0;34m.\u001b[0m\u001b[0mT\u001b[0m\u001b[0;34m\u001b[0m\u001b[0m\n\u001b[0m\u001b[1;32m     51\u001b[0m         \u001b[0;31m#check matrix compatibility\u001b[0m\u001b[0;34m\u001b[0m\u001b[0;34m\u001b[0m\u001b[0m\n\u001b[1;32m     52\u001b[0m         \u001b[0msigma\u001b[0m \u001b[0;34m=\u001b[0m \u001b[0;34m(\u001b[0m\u001b[0;36m1\u001b[0m\u001b[0;34m/\u001b[0m\u001b[0mn\u001b[0m\u001b[0;34m)\u001b[0m\u001b[0;34m*\u001b[0m\u001b[0mX_block\u001b[0m\u001b[0;34m@\u001b[0m\u001b[0mX_block\u001b[0m\u001b[0;34m.\u001b[0m\u001b[0mT\u001b[0m\u001b[0;34m\u001b[0m\u001b[0m\n",
      "\u001b[0;31mValueError\u001b[0m: shapes (100,1) and (2,) not aligned: 1 (dim 1) != 2 (dim 0)"
     ]
    }
   ],
   "source": [
    "main('data/ds1_test.csv','data/ds1_valid.csv','data/ds1_predict.csv')"
   ]
  },
  {
   "cell_type": "code",
   "execution_count": 3,
   "metadata": {
    "collapsed": false
   },
   "outputs": [
    {
     "data": {
      "text/plain": [
       "array([[2, 0, 0],\n",
       "       [0, 3, 0],\n",
       "       [0, 0, 4]])"
      ]
     },
     "execution_count": 3,
     "metadata": {},
     "output_type": "execute_result"
    }
   ],
   "source": [
    "np.diag(np.array([2,3,4]))"
   ]
  },
  {
   "cell_type": "code",
   "execution_count": null,
   "metadata": {
    "collapsed": true
   },
   "outputs": [],
   "source": []
  }
 ],
 "metadata": {
  "kernelspec": {
   "display_name": "Python 3",
   "language": "python",
   "name": "python3"
  },
  "language_info": {
   "codemirror_mode": {
    "name": "ipython",
    "version": 3
   },
   "file_extension": ".py",
   "mimetype": "text/x-python",
   "name": "python",
   "nbconvert_exporter": "python",
   "pygments_lexer": "ipython3",
   "version": "3.6.0"
  }
 },
 "nbformat": 4,
 "nbformat_minor": 2
}
