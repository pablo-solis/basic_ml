{
 "cells": [
  {
   "cell_type": "code",
   "execution_count": 3,
   "metadata": {
    "collapsed": false
   },
   "outputs": [
    {
     "data": {
      "text/plain": [
       "array([[ 0.],\n",
       "       [ 0.],\n",
       "       [ 0.],\n",
       "       [ 0.]])"
      ]
     },
     "execution_count": 3,
     "metadata": {},
     "output_type": "execute_result"
    }
   ],
   "source": [
    "import numpy as np\n",
    "np.exp(1)\n",
    "np.zeros([4,1])"
   ]
  },
  {
   "cell_type": "code",
   "execution_count": 2,
   "metadata": {
    "collapsed": true
   },
   "outputs": [],
   "source": [
    "'''data is of the form X = n x 2 array so the ith data point is X[i,0],X[i,1]\n",
    "and Y is an nx1 array'''\n",
    "def sigmoid(z):\n",
    "    return 1/(1+np.exp(-z))\n",
    "def lin_reg_h(theta,x):\n",
    "    #x is an np.array\n",
    "    #theta is an np.array of the same length\n",
    "    return sigmoid(theta.T@x)\n",
    "#recall n is the number of data points\n",
    "\n",
    "def pre_der_h(theta,x):\n",
    "    return lin_reg_h(theta,x)*(1-lin_reg_h(theta,x))\n",
    "\n",
    "#keep in mind that \n",
    "#n =len(data)\n",
    "#J = -1/n sum([y[i]]*np.log(lin_reg_h(theta,X[i]))+(1-y[i])*np.log(1-lin_reg_h(theta,X[i])))\n",
    "\n",
    "\n",
    "def grad_J(theta,X,Y):\n",
    "    #the output is an np array with d = len(theta) components\n",
    "    d = len(theta)\n",
    "    n = len(Y)\n",
    "    \n",
    "    #ith component is\n",
    "    #sum([(Y[j] - lin_reg_h(theta,X[j]))*X[j,i] for j in range(n)])\n",
    "    ans = [sum([(Y[j] - lin_reg_h(theta,X[j]))*X[j,i] for j in range(n)]) for i in range(d)]\n",
    "    return (-1/n)*np.array(ans)\n",
    "def Hess_J(theta,X,Y):\n",
    "    d = len(theta)\n",
    "    n = len(Y)\n",
    "    #need to compute i,jth entry\n",
    "    #it is the sum of the following list\n",
    "    rclist = lambda i,j:[(1/n)*pre_der_h(theta,X[k])*X[k,i]*X[k,j] for k in range(n)]\n",
    "    \n",
    "    ans = [[ sum(rclist(r,c)) for c in range(d)] for r in range(d)]\n",
    "    return np.array(ans)\n",
    "    \n",
    "    \n",
    "    \n",
    "    \n",
    "\n",
    "    "
   ]
  },
  {
   "cell_type": "code",
   "execution_count": 3,
   "metadata": {
    "collapsed": true
   },
   "outputs": [],
   "source": [
    "#first order of business is to code newton's method. \n",
    "#first see how to read in data\n",
    "import pandas as pd\n",
    "df=pd.read_csv('data/ds1_test.csv')\n",
    "X = np.array(df[['x_1','x_2']])\n",
    "Y = np.array(df[['y']])"
   ]
  },
  {
   "cell_type": "code",
   "execution_count": 4,
   "metadata": {
    "collapsed": false
   },
   "outputs": [
    {
     "data": {
      "text/plain": [
       "(2, 1)"
      ]
     },
     "execution_count": 4,
     "metadata": {},
     "output_type": "execute_result"
    }
   ],
   "source": [
    "theta = np.array([2,3])\n",
    "Hess_J(theta,X,Y)\n",
    "grad_J(theta,X,Y).shape"
   ]
  },
  {
   "cell_type": "code",
   "execution_count": null,
   "metadata": {
    "collapsed": true
   },
   "outputs": [],
   "source": []
  },
  {
   "cell_type": "code",
   "execution_count": 67,
   "metadata": {
    "collapsed": false
   },
   "outputs": [
    {
     "name": "stdout",
     "output_type": "stream",
     "text": [
      "(1, 'a')\n",
      "(2, 'b')\n"
     ]
    }
   ],
   "source": [
    "for i in zip([1,2],['a','b']):\n",
    "    print(i)"
   ]
  },
  {
   "cell_type": "code",
   "execution_count": null,
   "metadata": {
    "collapsed": true
   },
   "outputs": [],
   "source": []
  },
  {
   "cell_type": "code",
   "execution_count": 65,
   "metadata": {
    "collapsed": true
   },
   "outputs": [],
   "source": [
    "from linear_model import LinearModel"
   ]
  },
  {
   "cell_type": "code",
   "execution_count": null,
   "metadata": {
    "collapsed": true
   },
   "outputs": [],
   "source": []
  },
  {
   "cell_type": "code",
   "execution_count": 249,
   "metadata": {
    "collapsed": true
   },
   "outputs": [],
   "source": [
    "class LogisticRegression(LinearModel):\n",
    "    \"\"\"Logistic regression with Newton's Method as the solver.\n",
    "\n",
    "    Example usage:\n",
    "        > clf = LogisticRegression()\n",
    "        > clf.fit(x_train, y_train)\n",
    "        > clf.predict(x_eval)\n",
    "    \"\"\"\n",
    "\n",
    "    def fit(self, x, y):\n",
    "        \"\"\"Run Newton's Method to minimize J(theta) for logistic regression.\n",
    "\n",
    "        Args:\n",
    "            x: Training example inputs. Shape (n, d).\n",
    "            y: Training example labels. Shape (n,).\n",
    "        \"\"\"\n",
    "        # *** START CODE HERE ***\n",
    "        #set intitial theta\n",
    "        theta = np.array([0.0,0.0,0.0])\n",
    "        #make sure theta and y have correct shape for lin alg\n",
    "        theta = theta.reshape(3,1)\n",
    "        n = len(y)\n",
    "        y.reshape(n,1)\n",
    "        Hinv = np.linalg.inv(self.Hess_J(theta,x,y))\n",
    "        update = -Hinv@self.grad_J(theta,x,y)\n",
    "        theta +=update\n",
    "        test = self.one_norm(update)\n",
    "        \n",
    "        while(test>1e-5): #do another iteration to make update smaller\n",
    "            #use update rule:\n",
    "            Hinv = np.linalg.inv(self.Hess_J(theta,x,y))\n",
    "            update = -Hinv@self.grad_J(theta,x,y)\n",
    "            theta+=update\n",
    "            test = self.one_norm(update)\n",
    "        return theta\n",
    "        # *** END CODE HERE ***\n",
    "\n",
    "    def predict(self, x):\n",
    "        \"\"\"Make a prediction given new inputs x.\n",
    "\n",
    "        Args:\n",
    "            x: Inputs of shape (n, d).\n",
    "\n",
    "        Returns:\n",
    "            Outputs of shape (n,).\n",
    "        \"\"\"\n",
    "        # *** START CODE HERE ***\n",
    "        #fit the theta parameter\n",
    "        theta = self.fit(x_train,y_train)\n",
    "        yvals = [self.lin_reg(theta,x[i])]\n",
    "        return np.array(yvals)\n",
    "        # *** END CODE HERE ***\n",
    "    def one_norm(self,vec):\n",
    "        return sum([abs(v) for v in vec])\n",
    "    \n",
    "    def sigmoid(self,z):\n",
    "        return 1/(1+np.exp(-z))\n",
    "    def decision_boundary(self,theta):\n",
    "        #theta is np array\n",
    "        #make into list\n",
    "        \n",
    "        ltheta = list(theta.reshape(len(theta,)))\n",
    "        intercept = -ltheta[0]/ltheta[2]\n",
    "        if ltheta[0]!= 0:\n",
    "            slope = -ltheta[1]/ltheta[2]\n",
    "        else:\n",
    "            slope = np.inf\n",
    "        return (slope,intercept)\n",
    "    \n",
    "    def der_sig(self,z):\n",
    "        return self.sigmoid(z)*(1 - self.sigmoid(z))\n",
    "\n",
    "    def lin_reg_h(self,theta,x):\n",
    "        #x is an np.array\n",
    "        #theta is an np.array of the same length\n",
    "        return sigmoid(theta.T@x)\n",
    "\n",
    "    def grad_J(self,theta,x,y):\n",
    "        #return the gradient of J evalauted at theta\n",
    "        #x should be an n x d matrix\n",
    "        #y should be and n x 1 matrix\n",
    "        #output should be a a d x 1 matrix\n",
    "        #ans=c*x^T @ v where v is n x 1\n",
    "        n = len(y)\n",
    "        vec = np.array([yx[0] - self.lin_reg_h(theta,yx[1]) for yx in zip(y,x)])\n",
    "        return (-1/n)*(x.T@vec)\n",
    "    \n",
    "        \n",
    "    def Hess_J(self,theta,x,y):\n",
    "        #return the Hessian of J evaluated at theta\n",
    "        #x is nxd and x.T is dxn\n",
    "        \n",
    "        n = len(y)\n",
    "        theta = theta.reshape(len(theta),)\n",
    "        lst = [-self.der_sig(np.dot(theta.T,X[i])) for i in range(n)]\n",
    "        D = np.diag(lst) \n",
    "        #notice there will be a cancellation of minus signs\n",
    "        \n",
    "        return (-1/n)*(x.T@D@x)"
   ]
  },
  {
   "cell_type": "code",
   "execution_count": 253,
   "metadata": {
    "collapsed": false
   },
   "outputs": [],
   "source": [
    "import pandas as pd\n",
    "dt=pd.read_csv('data/ds1_test.csv')\n",
    "dv = pd.read_csv('data/ds1_valid.csv')\n",
    "X = np.array(dt[['x_1','x_2']])\n",
    "Y = np.array(dt[['y']])\n",
    "Y = Y.reshape([len(Y),])\n",
    "\n",
    "Xv = np.array(dv[['x_1','x_2']])\n",
    "Yv = np.array(dv[['y']])\n",
    "Yv = Yv.reshape([len(Yv),])\n",
    "\n",
    "n = len(Y)\n",
    "nv = len(Yv)\n",
    "#add intercept\n",
    "X = np.hstack([np.ones(n).reshape(n,1),X])\n",
    "Xv = np.hstack([np.ones(n).reshape(nv,1),Xv])\n",
    "test = LogisticRegression()\n",
    "#theta = np.array([0.0,0.0,0.0])\n",
    "#test.Hess_J(theta,X,Y)\n",
    "theta_t = test.fit(X,Y)\n",
    "util.plot(Xv,Yv,theta_t,'data/dsvv2_predict.jpeg')"
   ]
  },
  {
   "cell_type": "code",
   "execution_count": 246,
   "metadata": {
    "collapsed": false
   },
   "outputs": [
    {
     "data": {
      "text/plain": [
       "(100, 3)"
      ]
     },
     "execution_count": 246,
     "metadata": {},
     "output_type": "execute_result"
    }
   ],
   "source": [
    "import matplotlib.pyplot as plt\n",
    "Y.shape\n",
    "X.shape"
   ]
  },
  {
   "cell_type": "code",
   "execution_count": null,
   "metadata": {
    "collapsed": true
   },
   "outputs": [],
   "source": []
  },
  {
   "cell_type": "code",
   "execution_count": 233,
   "metadata": {
    "collapsed": false
   },
   "outputs": [
    {
     "name": "stdout",
     "output_type": "stream",
     "text": [
      "decision boundary:\n",
      " slope: 50.5797933481 \n",
      " intercept 2.5144014229\n"
     ]
    }
   ],
   "source": [
    "import numpy as np\n",
    "import util\n",
    "\n",
    "\n",
    "def main(train_path, valid_path, save_path):\n",
    "    \"\"\"Problem 1(b): Logistic regression with Newton's Method.\n",
    "\n",
    "    Args:\n",
    "        train_path: Path to CSV file containing dataset for training.\n",
    "        valid_path: Path to CSV file containing dataset for validation.\n",
    "        save_path: Path to save predictions using np.savetxt().\n",
    "    \"\"\"\n",
    "    x_train, y_train = util.load_dataset(train_path, add_intercept=True)\n",
    "    clf = LogisticRegression()\n",
    "    theta_fit = clf.fit(x_train,y_train)\n",
    "    \n",
    "    x_val,y_val = util.load_dataset(valid_path,add_intercept=True)\n",
    "    util.plot(x_val,y_val,theta_fit,save_path)\n",
    "    \n",
    "\n",
    "    # *** START CODE HERE ***\n",
    "    #np.savetxt(save_path,np.array([1,2,3,4]))\n",
    "    #return (x_train.shape,y_train.shape)\n",
    "    \n",
    "    # Train a logistic regression classifier\n",
    "    # Plot decision boundary on top of validation set set\n",
    "    # Use np.savetxt to save predictions on eval set to save_path\n",
    "    # *** END CODE HERE ***\n",
    "\n",
    "main('data/ds1_test.csv','data/ds1_valid.csv','data/ds1_predict.jpeg')"
   ]
  },
  {
   "cell_type": "code",
   "execution_count": 202,
   "metadata": {
    "collapsed": true
   },
   "outputs": [],
   "source": []
  },
  {
   "cell_type": "code",
   "execution_count": 203,
   "metadata": {
    "collapsed": true
   },
   "outputs": [],
   "source": []
  },
  {
   "cell_type": "code",
   "execution_count": null,
   "metadata": {
    "collapsed": false
   },
   "outputs": [],
   "source": []
  },
  {
   "cell_type": "code",
   "execution_count": 194,
   "metadata": {
    "collapsed": false
   },
   "outputs": [
    {
     "data": {
      "text/plain": [
       "5"
      ]
     },
     "execution_count": 194,
     "metadata": {},
     "output_type": "execute_result"
    }
   ],
   "source": [
    "np.dot(np.array([1,2]),np.array([1,2]).reshape(2,))"
   ]
  },
  {
   "cell_type": "code",
   "execution_count": null,
   "metadata": {
    "collapsed": false
   },
   "outputs": [],
   "source": []
  },
  {
   "cell_type": "code",
   "execution_count": null,
   "metadata": {
    "collapsed": true
   },
   "outputs": [],
   "source": []
  }
 ],
 "metadata": {
  "kernelspec": {
   "display_name": "Python 3",
   "language": "python",
   "name": "python3"
  },
  "language_info": {
   "codemirror_mode": {
    "name": "ipython",
    "version": 3
   },
   "file_extension": ".py",
   "mimetype": "text/x-python",
   "name": "python",
   "nbconvert_exporter": "python",
   "pygments_lexer": "ipython3",
   "version": "3.6.0"
  }
 },
 "nbformat": 4,
 "nbformat_minor": 2
}
