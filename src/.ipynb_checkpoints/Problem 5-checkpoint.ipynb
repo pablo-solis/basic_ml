{
 "cells": [
  {
   "cell_type": "code",
   "execution_count": 1,
   "metadata": {
    "collapsed": false
   },
   "outputs": [],
   "source": [
    "import util\n",
    "import numpy as np\n",
    "import matplotlib.pyplot as plt\n",
    "\n",
    "np.seterr(all='raise')\n",
    "factor = 2.0"
   ]
  },
  {
   "cell_type": "code",
   "execution_count": 11,
   "metadata": {
    "collapsed": false
   },
   "outputs": [
    {
     "data": {
      "text/plain": [
       "array([ 2.,  0.])"
      ]
     },
     "execution_count": 11,
     "metadata": {},
     "output_type": "execute_result"
    }
   ],
   "source": [
    "np.diag([2,0])@np.ones(2)"
   ]
  },
  {
   "cell_type": "code",
   "execution_count": 22,
   "metadata": {
    "collapsed": false
   },
   "outputs": [
    {
     "data": {
      "text/plain": [
       "0.0015926529164868282"
      ]
     },
     "execution_count": 22,
     "metadata": {},
     "output_type": "execute_result"
    }
   ],
   "source": [
    "vals = [2,3,5,6,7,7]\n",
    "xmat = np.array([[x**i for i in range(5)] for x in vals])\n",
    "np.sin(3.14)"
   ]
  },
  {
   "cell_type": "code",
   "execution_count": 18,
   "metadata": {
    "collapsed": false
   },
   "outputs": [
    {
     "data": {
      "text/plain": [
       "array([-0.31733259,  0.44426563, -2.34826118,  0.57119866, -0.57119866,\n",
       "        4.75998887, -0.82506474,  3.87145761,  2.98292636, -0.19039955,\n",
       "        2.72906028,  1.33279688, -5.01385494,  5.14078798, -3.61759154])"
      ]
     },
     "execution_count": 18,
     "metadata": {},
     "output_type": "execute_result"
    }
   ],
   "source": [
    "import pandas as pd\n",
    "df=pd.read_csv('data/ds5_test.csv')\n",
    "x = np.array(df[['x']])\n",
    "#add intercept\n",
    "x = np.hstack([np.ones([len(x),1]),x])\n",
    "x[:,1]"
   ]
  },
  {
   "cell_type": "code",
   "execution_count": null,
   "metadata": {
    "collapsed": true
   },
   "outputs": [],
   "source": [
    "class LinearModel(object):\n",
    "    \"\"\"Base class for linear models.\"\"\"\n",
    "\n",
    "    def __init__(self,beta=0):\n",
    "        \"\"\"\n",
    "        Args:\n",
    "            theta: Weights vector for the model.\n",
    "            beta: Regularization coefficient for the model.\n",
    "        \"\"\"\n",
    "        self.theta = None\n",
    "        self.beta = beta\n",
    "\n",
    "    def fit(self, x, y):\n",
    "        \"\"\"Run solver to fit linear model. You have to update the value of\n",
    "        self.theta using the normal equations.\n",
    "\n",
    "        Args:\n",
    "            x: Training example inputs. Shape (n, d).\n",
    "            y: Training example labels. Shape (n,).\n",
    "        \"\"\"\n",
    "        \n",
    "        #x.T@y has shape d,\n",
    "        #x.T@x has shape d,d\n",
    "        \n",
    "        \n",
    "        \n",
    "        # *** START CODE HERE ***\n",
    "        #use formula (X^TX)^inv(X^T y)\n",
    "        theta = np.linalg.inv(x.T@x)@(x.T@y)\n",
    "        self.theta = theta\n",
    "        #should have shape d,\n",
    "        # *** END CODE HERE ***\n",
    "\n",
    "    def create_poly(self,k,x):\n",
    "        \"\"\"\n",
    "        Generates a polynomial feature maps using the data x.\n",
    "        The polynomial map should have powers from 0 to k\n",
    "        Output should be a numpy array whose shape is (n, k+1)\n",
    "\n",
    "        Args:\n",
    "            x: Training example inputs. Shape (n, 2).\n",
    "        \"\"\"\n",
    "        # *** START CODE HERE ***\n",
    "        #n= number of examples\n",
    "        #row1: 1,x,x^2,...\n",
    "        #get x values from x:\n",
    "        xvals = x[:,1]\n",
    "        return np.array([[v**i for i in range(k+1)] for v in xvals])\n",
    "    \n",
    "        # *** END CODE HERE ***\n",
    "\n",
    "    def create_sin(self,k,x):\n",
    "        \"\"\"\n",
    "        Adds a sin featuremap to the data x.\n",
    "        Output should be a numpy array whose shape is (m, p+1)\n",
    "\n",
    "        Args:\n",
    "            x: Training example inputs. Shape (m, p).\n",
    "        \"\"\"\n",
    "        # *** START CODE HERE ***\n",
    "        #create sine colum\n",
    "        xvals = x[:1]\n",
    "        sine_col = np.array([np.sin(v) for v in xvals])\n",
    "        return np.hstack([x,sine_col])\n",
    "        \n",
    "        # *** END CODE HERE ***\n",
    "\n",
    "    def predict(self, x):\n",
    "        \"\"\"\n",
    "        Make a prediction given new inputs x.\n",
    "        Returns the numpy array of the predictions.\n",
    "\n",
    "        Args:\n",
    "            x: Inputs of shape (n, d).\n",
    "\n",
    "        Returns:\n",
    "            Outputs of shape (n,).\n",
    "        \"\"\"\n",
    "        # *** START CODE HERE ***\n",
    "        #this should only run once self.theta has been assigned\n",
    "        theta  = self.theta\n",
    "        #theta should have shape (d,)\n",
    "        return x@theta\n",
    "        # *** END CODE HERE ***\n",
    "\n",
    "    def mse(self,y_true,y_pred):\n",
    "        \"\"\"\n",
    "        Evaluate accuracy of predictions.\n",
    "        Returns the mean square error of the predictions.\n",
    "\n",
    "        Args:\n",
    "            y_true: Inputs of shape (n,).\n",
    "            y_pred: Inputs of shape (n,).\n",
    "\n",
    "        Returns:\n",
    "            Outputs of shape (1)\n",
    "        \"\"\"\n",
    "        # *** START CODE HERE ***\n",
    "        n  = len(y_true)\n",
    "        return (1/2)*sum([(y_true[i] - y_pred[i])**2 for i in range(n)])\n",
    "        # *** END CODE HERE ***"
   ]
  },
  {
   "cell_type": "code",
   "execution_count": null,
   "metadata": {
    "collapsed": true
   },
   "outputs": [],
   "source": [
    "#re-write this so  that it doesn't utilize util function\n",
    "def run_exp(train_path, sine=False, ks=[1, 2, 3, 5, 10, 20], filename='plot.png'):\n",
    "    train_x,train_y=util.load_dataset(train_path,add_intercept=True)\n",
    "    plot_x = np.ones([1000, 2])\n",
    "    plot_x[:, 1] = np.linspace(-factor*np.pi, factor*np.pi, 1000)\n",
    "    plt.figure()\n",
    "    plt.scatter(train_x[:, 1], train_y)\n",
    "\n",
    "    for k in ks:\n",
    "        '''\n",
    "        Our objective is to train models and perform predictions on plot_x data\n",
    "        '''\n",
    "        # *** START CODE HERE ***\n",
    "        clf=LinearModel()\n",
    "        if sine is True:\n",
    "            hat_x=clf.create_sin(k, train_x)\n",
    "            clf.fit(hat_x, train_y)\n",
    "            hat_plot_x = clf.create_sin(k, plot_x)\n",
    "            plot_y = clf.predict(hat_plot_x)\n",
    "        if sine is False:\n",
    "            # First, we will learn \"theta\" from hat_x and train_y, as per the code in fit.\n",
    "            hat_x = clf.create_poly(k, train_x)\n",
    "            clf.fit(hat_x, train_y)\n",
    "\n",
    "            # Having learned theta, we now have a polynomial. To plot this polynomial,\n",
    "            # we run it through the points in plot_x (which is just some arbitray collection\n",
    "            # of points.\n",
    "            hat_plot_x = clf.create_poly(k, plot_x)\n",
    "            plot_y = clf.predict(hat_plot_x)\n",
    "        # *** END CODE HERE ***\n",
    "        '''\n",
    "        Here plot_y are the predictions of the linear model on the plot_x data\n",
    "        '''\n",
    "        plt.ylim((-2,2))\n",
    "        plt.plot(plot_x[:, 1], plot_y, label='k=%d' % k)\n",
    "\n",
    "\n",
    "    plt.legend()\n",
    "    plt.savefig(filename)\n",
    "    plt.clf()\n",
    "    #np.savetxt('./output/p05error.txt', error)\n"
   ]
  }
 ],
 "metadata": {
  "kernelspec": {
   "display_name": "Python 3",
   "language": "python",
   "name": "python3"
  },
  "language_info": {
   "codemirror_mode": {
    "name": "ipython",
    "version": 3
   },
   "file_extension": ".py",
   "mimetype": "text/x-python",
   "name": "python",
   "nbconvert_exporter": "python",
   "pygments_lexer": "ipython3",
   "version": "3.6.0"
  }
 },
 "nbformat": 4,
 "nbformat_minor": 2
}
